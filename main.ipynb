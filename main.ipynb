{
 "cells": [
  {
   "cell_type": "code",
   "execution_count": 20,
   "metadata": {},
   "outputs": [
    {
     "name": "stdout",
     "output_type": "stream",
     "text": [
      "1.3.5\n",
      "1.21.3\n",
      "3.5.1\n"
     ]
    }
   ],
   "source": [
    "#python 3.8.12\n",
    "import pandas as pd #1.3.5\n",
    "import numpy as np #1.21.3\n",
    "import matplotlib # 3.5.1\n",
    "from matplotlib import pyplot as plt\n",
    "\n",
    "import os\n",
    "import datetime\n",
    "\n",
    "\n",
    "print(pd.__version__)\n",
    "print(np.__version__)\n",
    "print(matplotlib.__version__)"
   ]
  },
  {
   "cell_type": "markdown",
   "metadata": {},
   "source": [
    "# Problem 1"
   ]
  },
  {
   "cell_type": "markdown",
   "metadata": {},
   "source": [
    "Read data"
   ]
  },
  {
   "cell_type": "code",
   "execution_count": 3,
   "metadata": {},
   "outputs": [],
   "source": [
    "root_dir = os.path.realpath(os.getcwd())\n",
    "data_path = root_dir + '/../../instructions/gorilla_test_data.xlsx'\n",
    "assert os.path.exists(data_path), f\"{data_path} does not exist\"\n"
   ]
  },
  {
   "cell_type": "code",
   "execution_count": 4,
   "metadata": {},
   "outputs": [
    {
     "name": "stdout",
     "output_type": "stream",
     "text": [
      "(4, 3)\n",
      "meter_id      int64\n",
      "aq_kwh        int64\n",
      "exit_zone    object\n",
      "dtype: object\n"
     ]
    },
    {
     "data": {
      "text/html": [
       "<div>\n",
       "<style scoped>\n",
       "    .dataframe tbody tr th:only-of-type {\n",
       "        vertical-align: middle;\n",
       "    }\n",
       "\n",
       "    .dataframe tbody tr th {\n",
       "        vertical-align: top;\n",
       "    }\n",
       "\n",
       "    .dataframe thead th {\n",
       "        text-align: right;\n",
       "    }\n",
       "</style>\n",
       "<table border=\"1\" class=\"dataframe\">\n",
       "  <thead>\n",
       "    <tr style=\"text-align: right;\">\n",
       "      <th></th>\n",
       "      <th>meter_id</th>\n",
       "      <th>aq_kwh</th>\n",
       "      <th>exit_zone</th>\n",
       "    </tr>\n",
       "  </thead>\n",
       "  <tbody>\n",
       "    <tr>\n",
       "      <th>0</th>\n",
       "      <td>14676236</td>\n",
       "      <td>28978</td>\n",
       "      <td>EA1</td>\n",
       "    </tr>\n",
       "    <tr>\n",
       "      <th>1</th>\n",
       "      <td>34509937</td>\n",
       "      <td>78324</td>\n",
       "      <td>SO1</td>\n",
       "    </tr>\n",
       "    <tr>\n",
       "      <th>2</th>\n",
       "      <td>50264822</td>\n",
       "      <td>265667</td>\n",
       "      <td>NT1</td>\n",
       "    </tr>\n",
       "    <tr>\n",
       "      <th>3</th>\n",
       "      <td>88357331</td>\n",
       "      <td>484399</td>\n",
       "      <td>SE2</td>\n",
       "    </tr>\n",
       "  </tbody>\n",
       "</table>\n",
       "</div>"
      ],
      "text/plain": [
       "   meter_id  aq_kwh exit_zone\n",
       "0  14676236   28978       EA1\n",
       "1  34509937   78324       SO1\n",
       "2  50264822  265667       NT1\n",
       "3  88357331  484399       SE2"
      ]
     },
     "execution_count": 4,
     "metadata": {},
     "output_type": "execute_result"
    }
   ],
   "source": [
    "df_meter = pd.read_excel(data_path, 'meter_list')\n",
    "print(df_meter.shape)\n",
    "print(df_meter.dtypes)\n",
    "df_meter.head()"
   ]
  },
  {
   "cell_type": "code",
   "execution_count": 5,
   "metadata": {},
   "outputs": [
    {
     "name": "stdout",
     "output_type": "stream",
     "text": [
      "(3412, 3)\n",
      "meter_id             int64\n",
      "date        datetime64[ns]\n",
      "kwh                float64\n",
      "dtype: object\n"
     ]
    },
    {
     "data": {
      "text/html": [
       "<div>\n",
       "<style scoped>\n",
       "    .dataframe tbody tr th:only-of-type {\n",
       "        vertical-align: middle;\n",
       "    }\n",
       "\n",
       "    .dataframe tbody tr th {\n",
       "        vertical-align: top;\n",
       "    }\n",
       "\n",
       "    .dataframe thead th {\n",
       "        text-align: right;\n",
       "    }\n",
       "</style>\n",
       "<table border=\"1\" class=\"dataframe\">\n",
       "  <thead>\n",
       "    <tr style=\"text-align: right;\">\n",
       "      <th></th>\n",
       "      <th>meter_id</th>\n",
       "      <th>date</th>\n",
       "      <th>kwh</th>\n",
       "    </tr>\n",
       "  </thead>\n",
       "  <tbody>\n",
       "    <tr>\n",
       "      <th>0</th>\n",
       "      <td>14676236</td>\n",
       "      <td>2020-06-01</td>\n",
       "      <td>22.070768</td>\n",
       "    </tr>\n",
       "    <tr>\n",
       "      <th>1</th>\n",
       "      <td>14676236</td>\n",
       "      <td>2020-06-02</td>\n",
       "      <td>19.170720</td>\n",
       "    </tr>\n",
       "    <tr>\n",
       "      <th>2</th>\n",
       "      <td>14676236</td>\n",
       "      <td>2020-06-03</td>\n",
       "      <td>23.555111</td>\n",
       "    </tr>\n",
       "    <tr>\n",
       "      <th>3</th>\n",
       "      <td>14676236</td>\n",
       "      <td>2020-06-04</td>\n",
       "      <td>18.220712</td>\n",
       "    </tr>\n",
       "    <tr>\n",
       "      <th>4</th>\n",
       "      <td>14676236</td>\n",
       "      <td>2020-06-05</td>\n",
       "      <td>14.196134</td>\n",
       "    </tr>\n",
       "  </tbody>\n",
       "</table>\n",
       "</div>"
      ],
      "text/plain": [
       "   meter_id       date        kwh\n",
       "0  14676236 2020-06-01  22.070768\n",
       "1  14676236 2020-06-02  19.170720\n",
       "2  14676236 2020-06-03  23.555111\n",
       "3  14676236 2020-06-04  18.220712\n",
       "4  14676236 2020-06-05  14.196134"
      ]
     },
     "execution_count": 5,
     "metadata": {},
     "output_type": "execute_result"
    }
   ],
   "source": [
    "df_forecast = pd.read_excel(data_path, 'forecast_table')\n",
    "print(df_forecast.shape)\n",
    "print(df_forecast.dtypes)\n",
    "df_forecast.head()"
   ]
  },
  {
   "cell_type": "code",
   "execution_count": 6,
   "metadata": {},
   "outputs": [
    {
     "name": "stdout",
     "output_type": "stream",
     "text": [
      "(1140, 5)\n",
      "date              datetime64[ns]\n",
      "exit_zone                 object\n",
      "aq_min_kwh                 int64\n",
      "aq_max_kwh               float64\n",
      "rate_p_per_kwh           float64\n",
      "dtype: object\n"
     ]
    },
    {
     "data": {
      "text/html": [
       "<div>\n",
       "<style scoped>\n",
       "    .dataframe tbody tr th:only-of-type {\n",
       "        vertical-align: middle;\n",
       "    }\n",
       "\n",
       "    .dataframe tbody tr th {\n",
       "        vertical-align: top;\n",
       "    }\n",
       "\n",
       "    .dataframe thead th {\n",
       "        text-align: right;\n",
       "    }\n",
       "</style>\n",
       "<table border=\"1\" class=\"dataframe\">\n",
       "  <thead>\n",
       "    <tr style=\"text-align: right;\">\n",
       "      <th></th>\n",
       "      <th>date</th>\n",
       "      <th>exit_zone</th>\n",
       "      <th>aq_min_kwh</th>\n",
       "      <th>aq_max_kwh</th>\n",
       "      <th>rate_p_per_kwh</th>\n",
       "    </tr>\n",
       "  </thead>\n",
       "  <tbody>\n",
       "    <tr>\n",
       "      <th>0</th>\n",
       "      <td>2020-04-01</td>\n",
       "      <td>EA1</td>\n",
       "      <td>0</td>\n",
       "      <td>73200.0</td>\n",
       "      <td>0.2652</td>\n",
       "    </tr>\n",
       "    <tr>\n",
       "      <th>1</th>\n",
       "      <td>2020-04-01</td>\n",
       "      <td>EA1</td>\n",
       "      <td>73200</td>\n",
       "      <td>732000.0</td>\n",
       "      <td>0.1980</td>\n",
       "    </tr>\n",
       "    <tr>\n",
       "      <th>2</th>\n",
       "      <td>2020-04-01</td>\n",
       "      <td>EA1</td>\n",
       "      <td>732000</td>\n",
       "      <td>NaN</td>\n",
       "      <td>0.2875</td>\n",
       "    </tr>\n",
       "    <tr>\n",
       "      <th>3</th>\n",
       "      <td>2020-04-01</td>\n",
       "      <td>EA2</td>\n",
       "      <td>0</td>\n",
       "      <td>73200.0</td>\n",
       "      <td>0.2970</td>\n",
       "    </tr>\n",
       "    <tr>\n",
       "      <th>4</th>\n",
       "      <td>2020-04-01</td>\n",
       "      <td>EA2</td>\n",
       "      <td>73200</td>\n",
       "      <td>732000.0</td>\n",
       "      <td>0.1524</td>\n",
       "    </tr>\n",
       "  </tbody>\n",
       "</table>\n",
       "</div>"
      ],
      "text/plain": [
       "        date exit_zone  aq_min_kwh  aq_max_kwh  rate_p_per_kwh\n",
       "0 2020-04-01       EA1           0     73200.0          0.2652\n",
       "1 2020-04-01       EA1       73200    732000.0          0.1980\n",
       "2 2020-04-01       EA1      732000         NaN          0.2875\n",
       "3 2020-04-01       EA2           0     73200.0          0.2970\n",
       "4 2020-04-01       EA2       73200    732000.0          0.1524"
      ]
     },
     "execution_count": 6,
     "metadata": {},
     "output_type": "execute_result"
    }
   ],
   "source": [
    "df_rate = pd.read_excel(data_path, 'rate_table')\n",
    "print(df_rate.shape)\n",
    "print(df_rate.dtypes)\n",
    "df_rate.head()"
   ]
  },
  {
   "cell_type": "markdown",
   "metadata": {},
   "source": [
    "Calculate total cost and consumption. Assumes possibility that multiple meters may have same exit zone"
   ]
  },
  {
   "cell_type": "code",
   "execution_count": 7,
   "metadata": {},
   "outputs": [
    {
     "data": {
      "text/html": [
       "<div>\n",
       "<style scoped>\n",
       "    .dataframe tbody tr th:only-of-type {\n",
       "        vertical-align: middle;\n",
       "    }\n",
       "\n",
       "    .dataframe tbody tr th {\n",
       "        vertical-align: top;\n",
       "    }\n",
       "\n",
       "    .dataframe thead th {\n",
       "        text-align: right;\n",
       "    }\n",
       "</style>\n",
       "<table border=\"1\" class=\"dataframe\">\n",
       "  <thead>\n",
       "    <tr style=\"text-align: right;\">\n",
       "      <th></th>\n",
       "      <th>meter_id</th>\n",
       "      <th>total_estimated_consumption_kwh</th>\n",
       "      <th>total_cost_pounds</th>\n",
       "    </tr>\n",
       "  </thead>\n",
       "  <tbody>\n",
       "    <tr>\n",
       "      <th>0</th>\n",
       "      <td>14676236</td>\n",
       "      <td>28978.0</td>\n",
       "      <td>100.15</td>\n",
       "    </tr>\n",
       "    <tr>\n",
       "      <th>1</th>\n",
       "      <td>34509937</td>\n",
       "      <td>78324.0</td>\n",
       "      <td>275.49</td>\n",
       "    </tr>\n",
       "    <tr>\n",
       "      <th>2</th>\n",
       "      <td>50264822</td>\n",
       "      <td>265667.0</td>\n",
       "      <td>731.24</td>\n",
       "    </tr>\n",
       "    <tr>\n",
       "      <th>3</th>\n",
       "      <td>88357331</td>\n",
       "      <td>484399.0</td>\n",
       "      <td>1433.16</td>\n",
       "    </tr>\n",
       "  </tbody>\n",
       "</table>\n",
       "</div>"
      ],
      "text/plain": [
       "   meter_id  total_estimated_consumption_kwh  total_cost_pounds\n",
       "0  14676236                          28978.0             100.15\n",
       "1  34509937                          78324.0             275.49\n",
       "2  50264822                         265667.0             731.24\n",
       "3  88357331                         484399.0            1433.16"
      ]
     },
     "execution_count": 7,
     "metadata": {},
     "output_type": "execute_result"
    }
   ],
   "source": [
    "def calculate_cost(df_meter, df_rate, df_forecast) ->pd.DataFrame:\n",
    "    n_meter_ids = df_meter.shape[0]\n",
    "    df_meter = df_meter.copy()\n",
    "    df_meter['total_estimated_consumption_kwh'] = np.nan\n",
    "    df_meter['total_cost_pounds'] = np.nan\n",
    "\n",
    "    def map_rate_by_date(x: pd.Series, df_rate_subset: pd.DataFrame)->pd.Series:\n",
    "        date = x['date']\n",
    "        where = np.where(np.logical_and(df_rate_subset['date']<=date, date<=df_rate_subset['end_date']))[0][0] # date between\n",
    "        rate_p_per_kwh = df_rate_subset.loc[where, 'rate_p_per_kwh']\n",
    "        x['rate_p_per_kwh'] = rate_p_per_kwh\n",
    "        return x\n",
    "\n",
    "    for i in range(n_meter_ids):\n",
    "\n",
    "        # Get subset of rate for this meter\n",
    "        meter_info = df_meter.loc[i,:]\n",
    "        exit_zone = meter_info['exit_zone']\n",
    "        aq = meter_info['aq_kwh']\n",
    "        bool_ = (df_rate['exit_zone']==exit_zone) & (df_rate['aq_min_kwh']<=aq) & (df_rate['aq_max_kwh']>aq)\n",
    "        if np.count_nonzero(bool_) == 0:\n",
    "            # No rates, meter probably surpassed aq range\n",
    "            continue\n",
    "        df_rate_subset = df_rate[bool_].copy()\n",
    "        df_rate_subset['meter_id'] = meter_info['meter_id']\n",
    "        assert(np.unique(df_rate_subset['date']).shape[0] == df_rate_subset.shape[0])\n",
    "\n",
    "        # create init date and end date\n",
    "        df_rate_subset.sort_values(by='date', ignore_index=True, inplace=True)\n",
    "        n_rows_rate = df_rate_subset.shape[0]\n",
    "        df_rate_subset['end_date'] = (df_rate_subset.loc[1:, 'date'].reset_index(drop=True) - \n",
    "            pd.to_timedelta(1, 'days')) # 1 day before next row\n",
    "        df_rate_subset.loc[n_rows_rate-1, 'end_date'] = datetime.datetime(year=5000, month=12, day=30) # far future\n",
    "\n",
    "        # Get costs per day and meter \n",
    "        df_forecast_subset = df_forecast[df_forecast['meter_id'] == meter_info['meter_id']]\n",
    "        df_forecast_subset = df_forecast_subset.apply(lambda x: map_rate_by_date(x, df_rate_subset), axis=1)\n",
    "        total_cost = np.sum(df_forecast_subset['kwh'] * df_forecast_subset['rate_p_per_kwh'])\n",
    "        total_cost_pounds = np.round(total_cost * 0.01, decimals=2)\n",
    "        total_consumption = np.round(df_forecast_subset['kwh'].sum(), decimals=2)\n",
    "\n",
    "        df_meter.loc[i, 'total_estimated_consumption_kwh'] = total_consumption\n",
    "        df_meter.loc[i, 'total_cost_pounds'] = total_cost_pounds\n",
    "    return df_meter[['meter_id', 'total_estimated_consumption_kwh', 'total_cost_pounds']]\n",
    "\n",
    "df_costs = calculate_cost(df_meter, df_rate, df_forecast)\n",
    "df_costs\n"
   ]
  },
  {
   "cell_type": "markdown",
   "metadata": {},
   "source": [
    "# Problem 2\n",
    "Function that generates a meter_list table "
   ]
  },
  {
   "cell_type": "code",
   "execution_count": 8,
   "metadata": {},
   "outputs": [
    {
     "data": {
      "text/html": [
       "<div>\n",
       "<style scoped>\n",
       "    .dataframe tbody tr th:only-of-type {\n",
       "        vertical-align: middle;\n",
       "    }\n",
       "\n",
       "    .dataframe tbody tr th {\n",
       "        vertical-align: top;\n",
       "    }\n",
       "\n",
       "    .dataframe thead th {\n",
       "        text-align: right;\n",
       "    }\n",
       "</style>\n",
       "<table border=\"1\" class=\"dataframe\">\n",
       "  <thead>\n",
       "    <tr style=\"text-align: right;\">\n",
       "      <th></th>\n",
       "      <th>meter_id</th>\n",
       "      <th>aq_kwh</th>\n",
       "      <th>exit_zone</th>\n",
       "    </tr>\n",
       "  </thead>\n",
       "  <tbody>\n",
       "    <tr>\n",
       "      <th>0</th>\n",
       "      <td>66067</td>\n",
       "      <td>511934</td>\n",
       "      <td>EA2</td>\n",
       "    </tr>\n",
       "    <tr>\n",
       "      <th>1</th>\n",
       "      <td>28997</td>\n",
       "      <td>294109</td>\n",
       "      <td>NE3</td>\n",
       "    </tr>\n",
       "    <tr>\n",
       "      <th>2</th>\n",
       "      <td>55823</td>\n",
       "      <td>382745</td>\n",
       "      <td>SE1</td>\n",
       "    </tr>\n",
       "    <tr>\n",
       "      <th>3</th>\n",
       "      <td>70081</td>\n",
       "      <td>346736</td>\n",
       "      <td>EA4</td>\n",
       "    </tr>\n",
       "    <tr>\n",
       "      <th>4</th>\n",
       "      <td>63120</td>\n",
       "      <td>717892</td>\n",
       "      <td>SC4</td>\n",
       "    </tr>\n",
       "    <tr>\n",
       "      <th>5</th>\n",
       "      <td>26221</td>\n",
       "      <td>217205</td>\n",
       "      <td>WM3</td>\n",
       "    </tr>\n",
       "    <tr>\n",
       "      <th>6</th>\n",
       "      <td>90595</td>\n",
       "      <td>485911</td>\n",
       "      <td>WM2</td>\n",
       "    </tr>\n",
       "    <tr>\n",
       "      <th>7</th>\n",
       "      <td>89523</td>\n",
       "      <td>217053</td>\n",
       "      <td>NT3</td>\n",
       "    </tr>\n",
       "    <tr>\n",
       "      <th>8</th>\n",
       "      <td>29113</td>\n",
       "      <td>169637</td>\n",
       "      <td>LW</td>\n",
       "    </tr>\n",
       "    <tr>\n",
       "      <th>9</th>\n",
       "      <td>57678</td>\n",
       "      <td>791088</td>\n",
       "      <td>SW1</td>\n",
       "    </tr>\n",
       "  </tbody>\n",
       "</table>\n",
       "</div>"
      ],
      "text/plain": [
       "   meter_id  aq_kwh exit_zone\n",
       "0     66067  511934       EA2\n",
       "1     28997  294109       NE3\n",
       "2     55823  382745       SE1\n",
       "3     70081  346736       EA4\n",
       "4     63120  717892       SC4\n",
       "5     26221  217205       WM3\n",
       "6     90595  485911       WM2\n",
       "7     89523  217053       NT3\n",
       "8     29113  169637        LW\n",
       "9     57678  791088       SW1"
      ]
     },
     "execution_count": 8,
     "metadata": {},
     "output_type": "execute_result"
    }
   ],
   "source": [
    "def generate_meterlist(length, df_rate):\n",
    "    valid_exit_zones = np.unique(df_rate['exit_zone'])\n",
    "    random_ids = np.arange(1000, (1000+length)*100)\n",
    "    random_ids = np.random.choice(random_ids, length)\n",
    "    exit_zones = valid_exit_zones[np.random.randint(valid_exit_zones.shape[0], size=length)]\n",
    "    aq_kwh = np.random.randint(1000000, size=length)\n",
    "    df = pd.DataFrame({'meter_id': random_ids, 'aq_kwh': aq_kwh, 'exit_zone': exit_zones})\n",
    "    return df\n",
    "\n",
    "df_meter_gen = generate_meterlist(10, df_rate)\n",
    "df_meter_gen"
   ]
  },
  {
   "cell_type": "markdown",
   "metadata": {},
   "source": [
    "# Problem 3\n",
    "Assumes that there has to be data for each day and meter"
   ]
  },
  {
   "cell_type": "code",
   "execution_count": 9,
   "metadata": {},
   "outputs": [
    {
     "data": {
      "text/html": [
       "<div>\n",
       "<style scoped>\n",
       "    .dataframe tbody tr th:only-of-type {\n",
       "        vertical-align: middle;\n",
       "    }\n",
       "\n",
       "    .dataframe tbody tr th {\n",
       "        vertical-align: top;\n",
       "    }\n",
       "\n",
       "    .dataframe thead th {\n",
       "        text-align: right;\n",
       "    }\n",
       "</style>\n",
       "<table border=\"1\" class=\"dataframe\">\n",
       "  <thead>\n",
       "    <tr style=\"text-align: right;\">\n",
       "      <th></th>\n",
       "      <th>meter_id</th>\n",
       "      <th>date</th>\n",
       "      <th>kwh</th>\n",
       "    </tr>\n",
       "  </thead>\n",
       "  <tbody>\n",
       "    <tr>\n",
       "      <th>0</th>\n",
       "      <td>14676236</td>\n",
       "      <td>2020-05-04</td>\n",
       "      <td>23.230391</td>\n",
       "    </tr>\n",
       "    <tr>\n",
       "      <th>1</th>\n",
       "      <td>34509937</td>\n",
       "      <td>2020-05-04</td>\n",
       "      <td>85.650284</td>\n",
       "    </tr>\n",
       "    <tr>\n",
       "      <th>2</th>\n",
       "      <td>50264822</td>\n",
       "      <td>2020-05-04</td>\n",
       "      <td>92.695901</td>\n",
       "    </tr>\n",
       "    <tr>\n",
       "      <th>3</th>\n",
       "      <td>88357331</td>\n",
       "      <td>2020-05-04</td>\n",
       "      <td>74.934818</td>\n",
       "    </tr>\n",
       "    <tr>\n",
       "      <th>4</th>\n",
       "      <td>14676236</td>\n",
       "      <td>2020-05-05</td>\n",
       "      <td>57.938560</td>\n",
       "    </tr>\n",
       "  </tbody>\n",
       "</table>\n",
       "</div>"
      ],
      "text/plain": [
       "   meter_id       date        kwh\n",
       "0  14676236 2020-05-04  23.230391\n",
       "1  34509937 2020-05-04  85.650284\n",
       "2  50264822 2020-05-04  92.695901\n",
       "3  88357331 2020-05-04  74.934818\n",
       "4  14676236 2020-05-05  57.938560"
      ]
     },
     "execution_count": 9,
     "metadata": {},
     "output_type": "execute_result"
    }
   ],
   "source": [
    "import datetime\n",
    "\n",
    "def generate_consumption(df_meter, start_date, duration_days):\n",
    "    days_arange = start_date + pd.to_timedelta(np.arange(duration_days),'days')\n",
    "    days_arange_rep = np.repeat(days_arange, df_meter.shape[0])\n",
    "    meter_id_rep = np.vstack([df_meter['meter_id']] * duration_days).flatten() #repeat, but keeping order\n",
    "    n_rows = meter_id_rep.shape[0]\n",
    "    consumption_kwh = np.random.uniform(100, size=n_rows)\n",
    "    df = pd.DataFrame({'meter_id': meter_id_rep, 'date': days_arange_rep, 'kwh': consumption_kwh})\n",
    "    return df\n",
    "\n",
    "start_date = datetime.datetime(year=2020, month=5, day=4)\n",
    "duration_days = 3\n",
    "df_cons_gen = generate_consumption(df_meter, start_date, duration_days)\n",
    "df_cons_gen.head()"
   ]
  },
  {
   "cell_type": "markdown",
   "metadata": {},
   "source": [
    "# Problem 4"
   ]
  },
  {
   "cell_type": "code",
   "execution_count": 16,
   "metadata": {},
   "outputs": [
    {
     "name": "stderr",
     "output_type": "stream",
     "text": [
      "100%|██████████| 4/4 [00:54<00:00, 13.64s/it]\n"
     ]
    },
    {
     "data": {
      "image/png": "[encoded data removed]",
      "text/plain": [
       "<Figure size 432x288 with 1 Axes>"
      ]
     },
     "metadata": {
      "needs_background": "light"
     },
     "output_type": "display_data"
    }
   ],
   "source": [
    "import time\n",
    "\n",
    "times_l = []\n",
    "lengths = [5, 500, 1000, 2500]\n",
    "duration = 50\n",
    "start_date = df_rate['date'].min()\n",
    "for l in lengths:\n",
    "    df_meter_gen = generate_meterlist(l, df_rate)\n",
    "    df_cons_gen = generate_consumption(df_meter_gen, start_date, duration_days=duration)\n",
    "    time1 = time.time()\n",
    "    calculate_cost(df_meter_gen, df_rate, df_cons_gen)\n",
    "    times_l.append(time.time()-time1)\n",
    "plt.plot(lengths, times_l)\n",
    "plt.scatter(lengths, times_l)\n",
    "plt.xlabel('Length')\n",
    "plt.ylabel('Time')\n",
    "plt.show()"
   ]
  },
  {
   "cell_type": "code",
   "execution_count": 18,
   "metadata": {},
   "outputs": [
    {
     "data": {
      "image/png": "[encoded data removed]",
      "text/plain": [
       "<Figure size 432x288 with 1 Axes>"
      ]
     },
     "metadata": {
      "needs_background": "light"
     },
     "output_type": "display_data"
    }
   ],
   "source": [
    "times_d = []\n",
    "durations = [5, 500, 1000, 2500]\n",
    "length = 50\n",
    "start_date = df_rate['date'].min()\n",
    "for d in durations:\n",
    "    df_meter_gen = generate_meterlist(length, df_rate)\n",
    "    df_cons_gen = generate_consumption(df_meter_gen, start_date, duration_days=d)\n",
    "    time1 = time.time()\n",
    "    calculate_cost(df_meter_gen, df_rate, df_cons_gen)\n",
    "    times_d.append(time.time()-time1)\n",
    "plt.plot(lengths, times_d)\n",
    "plt.scatter(durations, times_d)\n",
    "plt.xlabel('Duration')\n",
    "plt.ylabel('Time')\n",
    "plt.show()"
   ]
  },
  {
   "cell_type": "markdown",
   "metadata": {},
   "source": [
    "# Problem 5"
   ]
  },
  {
   "cell_type": "markdown",
   "metadata": {},
   "source": [
    "From the plots it seems that the time needed increases linearly with duration and length. The main point that could be improved\n",
    "is the mapping of the dates in the df_forecast_subset with df_rate_subset. E.g., if we know that df_rate_subset will always be\n",
    "smaller than df_forecast_subset, we could iterate along df_rate_subset instead of along df_forecast_subset."
   ]
  },
  {
   "cell_type": "code",
   "execution_count": null,
   "metadata": {},
   "outputs": [],
   "source": []
  }
 ],
 "metadata": {
  "interpreter": {
   "hash": "7f30b55ce6124a676baf69601259365319da4f032be0cf01f6e599e94cf8b89c"
  },
  "kernelspec": {
   "display_name": "Python 3.8.12",
   "language": "python",
   "name": "python3"
  },
  "language_info": {
   "codemirror_mode": {
    "name": "ipython",
    "version": 3
   },
   "file_extension": ".py",
   "mimetype": "text/x-python",
   "name": "python",
   "nbconvert_exporter": "python",
   "pygments_lexer": "ipython3",
   "version": "3.8.12"
  },
  "orig_nbformat": 4
 },
 "nbformat": 4,
 "nbformat_minor": 2
}
